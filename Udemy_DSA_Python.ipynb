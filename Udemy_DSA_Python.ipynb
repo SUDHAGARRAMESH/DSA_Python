{
  "nbformat": 4,
  "nbformat_minor": 0,
  "metadata": {
    "colab": {
      "name": "Udemy_DSA_Python.ipynb",
      "provenance": [],
      "collapsed_sections": [],
      "authorship_tag": "ABX9TyNv2OPtFdOvdo4E7T/7pBBv",
      "include_colab_link": true
    },
    "kernelspec": {
      "name": "python3",
      "display_name": "Python 3"
    },
    "language_info": {
      "name": "python"
    }
  },
  "cells": [
    {
      "cell_type": "markdown",
      "metadata": {
        "id": "view-in-github",
        "colab_type": "text"
      },
      "source": [
        "<a href=\"https://colab.research.google.com/github/SUDHAGARRAMESH/DSA_Python/blob/main/Udemy_DSA_Python.ipynb\" target=\"_parent\"><img src=\"https://colab.research.google.com/assets/colab-badge.svg\" alt=\"Open In Colab\"/></a>"
      ]
    },
    {
      "cell_type": "code",
      "execution_count": null,
      "metadata": {
        "colab": {
          "base_uri": "https://localhost:8080/"
        },
        "id": "Q3vOb9Z_PExr",
        "outputId": "cef70990-e5f8-4994-c30d-c9b7a89d6d59"
      },
      "outputs": [
        {
          "output_type": "stream",
          "name": "stdout",
          "text": [
            "3.7.13\n",
            "3.7.13\n"
          ]
        }
      ],
      "source": [
        "import sys\n",
        "print(sys.version[0:6])\n",
        "print(sys.version.split()[0])"
      ]
    },
    {
      "cell_type": "code",
      "source": [
        "#Print List\n",
        "result = [3,10,5,28,63]\n",
        "print(result)"
      ],
      "metadata": {
        "colab": {
          "base_uri": "https://localhost:8080/"
        },
        "id": "GdfAQO84P7Cb",
        "outputId": "8c84410c-ddb2-4e8c-97e9-61522f24de03"
      },
      "execution_count": null,
      "outputs": [
        {
          "output_type": "stream",
          "name": "stdout",
          "text": [
            "[3, 10, 5, 28, 63]\n"
          ]
        }
      ]
    },
    {
      "cell_type": "code",
      "source": [
        "#List append\n",
        "result = []\n",
        "result.append(34)\n",
        "result.append(1.5)\n",
        "result.append(True)\n",
        "result.append('report.csv')\n",
        "print(result)"
      ],
      "metadata": {
        "colab": {
          "base_uri": "https://localhost:8080/"
        },
        "id": "TRJEDEhoRBVi",
        "outputId": "fc364503-0332-4ebd-b7b6-450ad7ca5ce4"
      },
      "execution_count": null,
      "outputs": [
        {
          "output_type": "stream",
          "name": "stdout",
          "text": [
            "[34, 1.5, True, 'report.csv']\n"
          ]
        }
      ]
    }
  ]
}